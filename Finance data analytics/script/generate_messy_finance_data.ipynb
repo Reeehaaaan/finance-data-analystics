{
 "cells": [
  {
   "cell_type": "markdown",
   "id": "8220ed1c-9b3a-4152-838b-94cb8d6040e9",
   "metadata": {},
   "source": [
    "# Imports and Setup"
   ]
  },
  {
   "cell_type": "code",
   "execution_count": 1,
   "id": "c444e256-d051-4d69-a824-d0f4c7d38931",
   "metadata": {},
   "outputs": [],
   "source": [
    "import pandas as pd\n",
    "import numpy as np\n",
    "import random\n",
    "from faker import Faker\n",
    "from datetime import datetime, timedelta\n",
    "import os\n",
    "\n",
    "fake = Faker()\n",
    "random.seed(42)\n",
    "Faker.seed(42)\n",
    "\n",
    "# Create output folder\n",
    "os.makedirs(\"finance_data\", exist_ok=True)"
   ]
  },
  {
   "cell_type": "markdown",
   "id": "06fdee3d-49c1-4d9a-9114-58ea0f64c9ef",
   "metadata": {},
   "source": [
    "# Helper Functions"
   ]
  },
  {
   "cell_type": "code",
   "execution_count": 3,
   "id": "6551d4e0-f9b4-4687-a302-902e0adf9e42",
   "metadata": {},
   "outputs": [],
   "source": [
    "def random_date(start, end):\n",
    "    \"\"\"Generate a random datetime between `start` and `end`\"\"\"\n",
    "    return start + timedelta(days=random.randint(0, (end - start).days))\n",
    "\n",
    "def dirty_string(s):\n",
    "    \"\"\"Introduce casing and whitespace issues\"\"\"\n",
    "    if random.random() < 0.3:\n",
    "        s = s.upper()\n",
    "    elif random.random() < 0.6:\n",
    "        s = s.lower()\n",
    "    return s.strip() + (\" \" if random.random() < 0.1 else \"\")\n"
   ]
  },
  {
   "cell_type": "markdown",
   "id": "147fc14f-0e86-40e0-9d74-e77950b6a94c",
   "metadata": {},
   "source": [
    "# Generate customers Table"
   ]
  },
  {
   "cell_type": "code",
   "execution_count": 5,
   "id": "41d7ff6a-e297-41ed-b184-7cf4fb53f7c8",
   "metadata": {},
   "outputs": [
    {
     "name": "stdout",
     "output_type": "stream",
     "text": [
      "Generated customers table with 1050 rows.\n"
     ]
    }
   ],
   "source": [
    "customers = []\n",
    "for i in range(1000):\n",
    "    name = fake.name()\n",
    "    email = fake.email() if random.random() > 0.1 else None\n",
    "    phone = fake.phone_number() if random.random() > 0.1 else None\n",
    "    dob = fake.date_of_birth(minimum_age=18, maximum_age=70)\n",
    "    if random.random() < 0.03:\n",
    "        dob = datetime.now() + timedelta(days=random.randint(1, 100))  # Future DOB\n",
    "    location = dirty_string(fake.city())\n",
    "    occupation = fake.job()\n",
    "    customers.append([i+1, dirty_string(name), email, phone, dob, fake.date_between(start_date='-10y', end_date='-1d'), location, occupation])\n",
    "\n",
    "customers_df = pd.DataFrame(customers, columns=[\n",
    "    \"customer_id\", \"name\", \"email\", \"phone\", \"date_of_birth\", \"account_open_date\", \"location\", \"occupation\"\n",
    "])\n",
    "\n",
    "# Add 5% duplicates\n",
    "customers_df = pd.concat([customers_df, customers_df.sample(frac=0.05, random_state=1)], ignore_index=True)\n",
    "\n",
    "customers_df.head()\n",
    "\n",
    "print(f\"Generated customers table with {len(customers_df)} rows.\")\n"
   ]
  },
  {
   "cell_type": "markdown",
   "id": "018fbe25-f2d5-4fdb-8095-4fb111cf5659",
   "metadata": {},
   "source": [
    "# Generate accounts Table"
   ]
  },
  {
   "cell_type": "code",
   "execution_count": 7,
   "id": "bbc8bdd6-89f0-45b4-80b0-2ac096151e4f",
   "metadata": {},
   "outputs": [
    {
     "name": "stdout",
     "output_type": "stream",
     "text": [
      "Generated accounts table with 1224 rows.\n"
     ]
    }
   ],
   "source": [
    "account_types = [\"savings\", \"checking\", \"business\"]\n",
    "\n",
    "accounts = []\n",
    "for i in range(1200):\n",
    "    acc_id = 10000 + i\n",
    "    customer_id = random.choice(customers_df[\"customer_id\"].tolist() + [2000])  # Invalid FK\n",
    "    acc_type = random.choice(account_types)\n",
    "    balance = round(random.uniform(-5000, 100000), 2)\n",
    "    status = random.choice([\"active\", \"closed\", \"frozen\"])\n",
    "    last_updated = fake.date_between(start_date='-1y', end_date='today')\n",
    "    accounts.append([acc_id, customer_id, acc_type, balance, status, last_updated])\n",
    "\n",
    "accounts_df = pd.DataFrame(accounts, columns=[\n",
    "    \"account_id\", \"customer_id\", \"account_type\", \"balance\", \"status\", \"last_updated\"\n",
    "])\n",
    "\n",
    "# Add 2% duplicates\n",
    "accounts_df = pd.concat([accounts_df, accounts_df.sample(frac=0.02, random_state=2)], ignore_index=True)\n",
    "\n",
    "accounts_df.head()\n",
    "\n",
    "print(f\"Generated accounts table with {len(accounts_df)} rows.\")\n"
   ]
  },
  {
   "cell_type": "markdown",
   "id": "3a3a1ee6-00f8-463d-ac0d-17891249e5d0",
   "metadata": {},
   "source": [
    "# Generate transactions Table"
   ]
  },
  {
   "cell_type": "code",
   "execution_count": 10,
   "id": "319985fe-d613-4a43-8e91-bd59c9a9ba5e",
   "metadata": {},
   "outputs": [
    {
     "name": "stdout",
     "output_type": "stream",
     "text": [
      "Generated transactions table with 25000 rows.\n"
     ]
    }
   ],
   "source": [
    "categories = [\"groceries\", \"shopping\", \"fuel\", \"entertainment\", \"utilities\", \"salary\", \"insurance\", \"rent\"]\n",
    "category_typos = [\"Grocerry\", \"Groceriess\", \"SHOPPING\", \"Fuel \", \"Entertaiment\"]\n",
    "\n",
    "transactions = []\n",
    "for i in range(25000):\n",
    "    tx_id = 200000 + i\n",
    "    acc_id = random.choice(accounts_df[\"account_id\"].tolist())\n",
    "    tx_date = fake.date_between(start_date='-1y', end_date='today')\n",
    "    if random.random() < 0.02:\n",
    "        tx_date = datetime.now() + timedelta(days=random.randint(1, 30))  # Future date\n",
    "    tx_type = random.choice([\"credit\", \"debit\"])\n",
    "    amount = round(random.uniform(1, 10000), 2)\n",
    "    if tx_type == \"credit\" and random.random() < 0.1:\n",
    "        amount = -amount  # Messy: negative credit\n",
    "    merchant = fake.company() if random.random() > 0.08 else None\n",
    "    category = random.choice(categories + category_typos)\n",
    "    transactions.append([tx_id, acc_id, tx_date, tx_type, amount, merchant, category])\n",
    "\n",
    "transactions_df = pd.DataFrame(transactions, columns=[\n",
    "    \"transaction_id\", \"account_id\", \"transaction_date\", \"transaction_type\", \"amount\", \"merchant\", \"category\"\n",
    "])\n",
    "\n",
    "transactions_df.head()\n",
    "\n",
    "print(f\"Generated transactions table with {len(transactions_df)} rows.\")\n"
   ]
  },
  {
   "cell_type": "markdown",
   "id": "29d7a492-5505-49aa-9ac0-9777a6dc5b40",
   "metadata": {},
   "source": [
    "# Generate loan_applications Table"
   ]
  },
  {
   "cell_type": "code",
   "execution_count": 12,
   "id": "e7ff57a7-9a8d-4783-8640-db1fdf5a245a",
   "metadata": {},
   "outputs": [
    {
     "name": "stdout",
     "output_type": "stream",
     "text": [
      "Generated loan_applications table with 2000 rows.\n"
     ]
    }
   ],
   "source": [
    "statuses = [\"approved\", \"rejected\", \"pending\", \"APPROVED\", \"Approved \", \" REJECTED\"]\n",
    "\n",
    "loans = []\n",
    "for i in range(2000):\n",
    "    loan_id = 300000 + i\n",
    "    cust_id = random.choice(customers_df[\"customer_id\"].tolist())\n",
    "    loan_type = random.choice([\"personal\", \"home\", \"car\", \"education\"])\n",
    "    amount_applied = round(random.uniform(0, 500000), 2)\n",
    "    if random.random() < 0.05:\n",
    "        amount_applied = None\n",
    "    status = random.choice(statuses)\n",
    "    application_date = fake.date_between(start_date='-2y', end_date='-1d')\n",
    "    approved_date = application_date + timedelta(days=random.randint(-10, 30))  # May be wrong\n",
    "    loans.append([loan_id, cust_id, loan_type, amount_applied, status, application_date, approved_date])\n",
    "\n",
    "loans_df = pd.DataFrame(loans, columns=[\n",
    "    \"loan_id\", \"customer_id\", \"loan_type\", \"amount_applied\", \"status\", \"application_date\", \"approved_date\"\n",
    "])\n",
    "\n",
    "loans_df.head()\n",
    "\n",
    "print(f\"Generated loan_applications table with {len(loans_df)} rows.\")\n"
   ]
  },
  {
   "cell_type": "markdown",
   "id": "9e799751-ff0e-4ad1-8279-735d26dc4e45",
   "metadata": {},
   "source": [
    "#  Generate credit_scores Table"
   ]
  },
  {
   "cell_type": "code",
   "execution_count": 14,
   "id": "65935df0-5170-4276-b881-4c8e7259fd27",
   "metadata": {},
   "outputs": [
    {
     "name": "stdout",
     "output_type": "stream",
     "text": [
      "Generated credit_scores table with 5250 rows.\n"
     ]
    }
   ],
   "source": [
    "scores = []\n",
    "for i in range(5000):\n",
    "    cust_id = random.choice(customers_df[\"customer_id\"].tolist())\n",
    "    score_date = fake.date_between(start_date='-2y', end_date='today')\n",
    "    score = random.randint(250, 950)\n",
    "    if random.random() < 0.05:\n",
    "        score = None\n",
    "    scores.append([cust_id, score, score_date])\n",
    "\n",
    "credit_df = pd.DataFrame(scores, columns=[\"customer_id\", \"score\", \"score_date\"])\n",
    "\n",
    "# Add 5% duplicates\n",
    "credit_df = pd.concat([credit_df, credit_df.sample(frac=0.05, random_state=3)], ignore_index=True)\n",
    "\n",
    "credit_df.head()\n",
    "\n",
    "print(f\"Generated credit_scores table with {len(credit_df)} rows.\")\n"
   ]
  },
  {
   "cell_type": "code",
   "execution_count": 16,
   "id": "9232dee7-d2c9-4652-904b-91923f12492d",
   "metadata": {},
   "outputs": [
    {
     "name": "stdout",
     "output_type": "stream",
     "text": [
      "All messy data saved to 'finance_data/' folder.\n"
     ]
    }
   ],
   "source": [
    "customers_df.to_csv(\"finance_data/customers.csv\", index=False)\n",
    "accounts_df.to_csv(\"finance_data/accounts.csv\", index=False)\n",
    "transactions_df.to_csv(\"finance_data/transactions.csv\", index=False)\n",
    "loans_df.to_csv(\"finance_data/loan_applications.csv\", index=False)\n",
    "credit_df.to_csv(\"finance_data/credit_scores.csv\", index=False)\n",
    "\n",
    "print(\"All messy data saved to 'finance_data/' folder.\")\n"
   ]
  },
  {
   "cell_type": "markdown",
   "id": "fde65ef0-be77-45a0-88f6-4ffb083ce823",
   "metadata": {},
   "source": [
    "# Fix loan_application csv"
   ]
  },
  {
   "cell_type": "code",
   "execution_count": 20,
   "id": "ff944e77-c96c-4dd5-b377-4df579f14b2b",
   "metadata": {},
   "outputs": [
    {
     "name": "stdout",
     "output_type": "stream",
     "text": [
      " Original rows: 2000\n"
     ]
    },
    {
     "data": {
      "text/html": [
       "<div>\n",
       "<style scoped>\n",
       "    .dataframe tbody tr th:only-of-type {\n",
       "        vertical-align: middle;\n",
       "    }\n",
       "\n",
       "    .dataframe tbody tr th {\n",
       "        vertical-align: top;\n",
       "    }\n",
       "\n",
       "    .dataframe thead th {\n",
       "        text-align: right;\n",
       "    }\n",
       "</style>\n",
       "<table border=\"1\" class=\"dataframe\">\n",
       "  <thead>\n",
       "    <tr style=\"text-align: right;\">\n",
       "      <th></th>\n",
       "      <th>loan_id</th>\n",
       "      <th>customer_id</th>\n",
       "      <th>loan_type</th>\n",
       "      <th>amount_applied</th>\n",
       "      <th>status</th>\n",
       "      <th>application_date</th>\n",
       "      <th>approved_date</th>\n",
       "    </tr>\n",
       "  </thead>\n",
       "  <tbody>\n",
       "    <tr>\n",
       "      <th>0</th>\n",
       "      <td>300000</td>\n",
       "      <td>525</td>\n",
       "      <td>home</td>\n",
       "      <td>383056.57</td>\n",
       "      <td>REJECTED</td>\n",
       "      <td>2024-05-22</td>\n",
       "      <td>2024-05-15</td>\n",
       "    </tr>\n",
       "    <tr>\n",
       "      <th>1</th>\n",
       "      <td>300001</td>\n",
       "      <td>169</td>\n",
       "      <td>personal</td>\n",
       "      <td>124109.38</td>\n",
       "      <td>pending</td>\n",
       "      <td>2024-09-16</td>\n",
       "      <td>2024-09-24</td>\n",
       "    </tr>\n",
       "    <tr>\n",
       "      <th>2</th>\n",
       "      <td>300002</td>\n",
       "      <td>485</td>\n",
       "      <td>personal</td>\n",
       "      <td>335275.13</td>\n",
       "      <td>pending</td>\n",
       "      <td>2024-08-01</td>\n",
       "      <td>2024-08-23</td>\n",
       "    </tr>\n",
       "    <tr>\n",
       "      <th>3</th>\n",
       "      <td>300003</td>\n",
       "      <td>801</td>\n",
       "      <td>car</td>\n",
       "      <td>167905.24</td>\n",
       "      <td>Approved</td>\n",
       "      <td>2024-10-15</td>\n",
       "      <td>2024-10-08</td>\n",
       "    </tr>\n",
       "    <tr>\n",
       "      <th>4</th>\n",
       "      <td>300004</td>\n",
       "      <td>251</td>\n",
       "      <td>home</td>\n",
       "      <td>39309.12</td>\n",
       "      <td>APPROVED</td>\n",
       "      <td>2024-02-01</td>\n",
       "      <td>2024-02-24</td>\n",
       "    </tr>\n",
       "  </tbody>\n",
       "</table>\n",
       "</div>"
      ],
      "text/plain": [
       "   loan_id  customer_id loan_type  amount_applied     status application_date  \\\n",
       "0   300000          525      home       383056.57   REJECTED       2024-05-22   \n",
       "1   300001          169  personal       124109.38    pending       2024-09-16   \n",
       "2   300002          485  personal       335275.13    pending       2024-08-01   \n",
       "3   300003          801       car       167905.24  Approved        2024-10-15   \n",
       "4   300004          251      home        39309.12   APPROVED       2024-02-01   \n",
       "\n",
       "  approved_date  \n",
       "0    2024-05-15  \n",
       "1    2024-09-24  \n",
       "2    2024-08-23  \n",
       "3    2024-10-08  \n",
       "4    2024-02-24  "
      ]
     },
     "execution_count": 20,
     "metadata": {},
     "output_type": "execute_result"
    }
   ],
   "source": [
    "import pandas as pd\n",
    "\n",
    "# Load the original file\n",
    "df = pd.read_csv(\"finance_data/loan_applications.csv\")\n",
    "print(f\" Original rows: {df.shape[0]}\")\n",
    "df.head()\n"
   ]
  },
  {
   "cell_type": "code",
   "execution_count": 22,
   "id": "3ad0ce0f-fa68-42e3-9a91-ebc65259d64f",
   "metadata": {},
   "outputs": [
    {
     "name": "stdout",
     "output_type": "stream",
     "text": [
      "Replaced missing values with 'NULL'\n"
     ]
    },
    {
     "data": {
      "text/html": [
       "<div>\n",
       "<style scoped>\n",
       "    .dataframe tbody tr th:only-of-type {\n",
       "        vertical-align: middle;\n",
       "    }\n",
       "\n",
       "    .dataframe tbody tr th {\n",
       "        vertical-align: top;\n",
       "    }\n",
       "\n",
       "    .dataframe thead th {\n",
       "        text-align: right;\n",
       "    }\n",
       "</style>\n",
       "<table border=\"1\" class=\"dataframe\">\n",
       "  <thead>\n",
       "    <tr style=\"text-align: right;\">\n",
       "      <th></th>\n",
       "      <th>loan_id</th>\n",
       "      <th>customer_id</th>\n",
       "      <th>loan_type</th>\n",
       "      <th>amount_applied</th>\n",
       "      <th>status</th>\n",
       "      <th>application_date</th>\n",
       "      <th>approved_date</th>\n",
       "    </tr>\n",
       "  </thead>\n",
       "  <tbody>\n",
       "    <tr>\n",
       "      <th>0</th>\n",
       "      <td>300000</td>\n",
       "      <td>525</td>\n",
       "      <td>home</td>\n",
       "      <td>383056.57</td>\n",
       "      <td>REJECTED</td>\n",
       "      <td>2024-05-22</td>\n",
       "      <td>2024-05-15</td>\n",
       "    </tr>\n",
       "    <tr>\n",
       "      <th>1</th>\n",
       "      <td>300001</td>\n",
       "      <td>169</td>\n",
       "      <td>personal</td>\n",
       "      <td>124109.38</td>\n",
       "      <td>pending</td>\n",
       "      <td>2024-09-16</td>\n",
       "      <td>2024-09-24</td>\n",
       "    </tr>\n",
       "    <tr>\n",
       "      <th>2</th>\n",
       "      <td>300002</td>\n",
       "      <td>485</td>\n",
       "      <td>personal</td>\n",
       "      <td>335275.13</td>\n",
       "      <td>pending</td>\n",
       "      <td>2024-08-01</td>\n",
       "      <td>2024-08-23</td>\n",
       "    </tr>\n",
       "    <tr>\n",
       "      <th>3</th>\n",
       "      <td>300003</td>\n",
       "      <td>801</td>\n",
       "      <td>car</td>\n",
       "      <td>167905.24</td>\n",
       "      <td>Approved</td>\n",
       "      <td>2024-10-15</td>\n",
       "      <td>2024-10-08</td>\n",
       "    </tr>\n",
       "    <tr>\n",
       "      <th>4</th>\n",
       "      <td>300004</td>\n",
       "      <td>251</td>\n",
       "      <td>home</td>\n",
       "      <td>39309.12</td>\n",
       "      <td>APPROVED</td>\n",
       "      <td>2024-02-01</td>\n",
       "      <td>2024-02-24</td>\n",
       "    </tr>\n",
       "  </tbody>\n",
       "</table>\n",
       "</div>"
      ],
      "text/plain": [
       "   loan_id  customer_id loan_type amount_applied     status application_date  \\\n",
       "0   300000          525      home      383056.57   REJECTED       2024-05-22   \n",
       "1   300001          169  personal      124109.38    pending       2024-09-16   \n",
       "2   300002          485  personal      335275.13    pending       2024-08-01   \n",
       "3   300003          801       car      167905.24  Approved        2024-10-15   \n",
       "4   300004          251      home       39309.12   APPROVED       2024-02-01   \n",
       "\n",
       "  approved_date  \n",
       "0    2024-05-15  \n",
       "1    2024-09-24  \n",
       "2    2024-08-23  \n",
       "3    2024-10-08  \n",
       "4    2024-02-24  "
      ]
     },
     "execution_count": 22,
     "metadata": {},
     "output_type": "execute_result"
    }
   ],
   "source": [
    "# Replace NaNs with the string 'NULL'\n",
    "df = df.fillna('NULL')\n",
    "\n",
    "# Optional: Check how many were replaced\n",
    "print(\"Replaced missing values with 'NULL'\")\n",
    "df.head()\n"
   ]
  },
  {
   "cell_type": "code",
   "execution_count": 24,
   "id": "6d9983fd-0d21-4d91-9a40-84d96813c338",
   "metadata": {},
   "outputs": [
    {
     "name": "stdout",
     "output_type": "stream",
     "text": [
      "Cleaned file saved as 'loan_applications_clean.csv'\n"
     ]
    }
   ],
   "source": [
    "# Export to a new cleaned file\n",
    "df.to_csv(\"finance_data/loan_applications_clean.csv\", index=False)\n",
    "print(\"Cleaned file saved as 'loan_applications_clean.csv'\")\n"
   ]
  },
  {
   "cell_type": "markdown",
   "id": "5d47420e-846c-4fab-b618-69e11d8e83db",
   "metadata": {},
   "source": [
    "# Fix credit_score csv"
   ]
  },
  {
   "cell_type": "code",
   "execution_count": 26,
   "id": "8d1499b7-57f1-497a-8003-911682430b80",
   "metadata": {},
   "outputs": [
    {
     "name": "stdout",
     "output_type": "stream",
     "text": [
      "Original rows: 5250\n"
     ]
    },
    {
     "data": {
      "text/html": [
       "<div>\n",
       "<style scoped>\n",
       "    .dataframe tbody tr th:only-of-type {\n",
       "        vertical-align: middle;\n",
       "    }\n",
       "\n",
       "    .dataframe tbody tr th {\n",
       "        vertical-align: top;\n",
       "    }\n",
       "\n",
       "    .dataframe thead th {\n",
       "        text-align: right;\n",
       "    }\n",
       "</style>\n",
       "<table border=\"1\" class=\"dataframe\">\n",
       "  <thead>\n",
       "    <tr style=\"text-align: right;\">\n",
       "      <th></th>\n",
       "      <th>customer_id</th>\n",
       "      <th>score</th>\n",
       "      <th>score_date</th>\n",
       "    </tr>\n",
       "  </thead>\n",
       "  <tbody>\n",
       "    <tr>\n",
       "      <th>0</th>\n",
       "      <td>333</td>\n",
       "      <td>511.0</td>\n",
       "      <td>2023-08-26</td>\n",
       "    </tr>\n",
       "    <tr>\n",
       "      <th>1</th>\n",
       "      <td>497</td>\n",
       "      <td>823.0</td>\n",
       "      <td>2023-12-17</td>\n",
       "    </tr>\n",
       "    <tr>\n",
       "      <th>2</th>\n",
       "      <td>597</td>\n",
       "      <td>480.0</td>\n",
       "      <td>2023-11-19</td>\n",
       "    </tr>\n",
       "    <tr>\n",
       "      <th>3</th>\n",
       "      <td>647</td>\n",
       "      <td>550.0</td>\n",
       "      <td>2024-11-12</td>\n",
       "    </tr>\n",
       "    <tr>\n",
       "      <th>4</th>\n",
       "      <td>687</td>\n",
       "      <td>527.0</td>\n",
       "      <td>2024-10-04</td>\n",
       "    </tr>\n",
       "  </tbody>\n",
       "</table>\n",
       "</div>"
      ],
      "text/plain": [
       "   customer_id  score  score_date\n",
       "0          333  511.0  2023-08-26\n",
       "1          497  823.0  2023-12-17\n",
       "2          597  480.0  2023-11-19\n",
       "3          647  550.0  2024-11-12\n",
       "4          687  527.0  2024-10-04"
      ]
     },
     "execution_count": 26,
     "metadata": {},
     "output_type": "execute_result"
    }
   ],
   "source": [
    "import pandas as pd\n",
    "\n",
    "# Load the existing credit scores CSV\n",
    "df = pd.read_csv(\"finance_data/credit_scores.csv\")\n",
    "\n",
    "print(f\"Original rows: {df.shape[0]}\")\n",
    "df.head()\n",
    "\n"
   ]
  },
  {
   "cell_type": "code",
   "execution_count": 28,
   "id": "b5b74304-8875-496e-8ead-277b3f1ff40c",
   "metadata": {},
   "outputs": [
    {
     "name": "stdout",
     "output_type": "stream",
     "text": [
      " Replaced all missing values with 'NULL'\n"
     ]
    },
    {
     "name": "stderr",
     "output_type": "stream",
     "text": [
      "C:\\Users\\DELL.WIN-EFQG1MH1O15\\AppData\\Local\\Temp\\ipykernel_13500\\3193140060.py:2: FutureWarning: Setting an item of incompatible dtype is deprecated and will raise an error in a future version of pandas. Value 'NULL' has dtype incompatible with float64, please explicitly cast to a compatible dtype first.\n",
      "  df.fillna(\"NULL\", inplace=True)\n"
     ]
    },
    {
     "data": {
      "text/html": [
       "<div>\n",
       "<style scoped>\n",
       "    .dataframe tbody tr th:only-of-type {\n",
       "        vertical-align: middle;\n",
       "    }\n",
       "\n",
       "    .dataframe tbody tr th {\n",
       "        vertical-align: top;\n",
       "    }\n",
       "\n",
       "    .dataframe thead th {\n",
       "        text-align: right;\n",
       "    }\n",
       "</style>\n",
       "<table border=\"1\" class=\"dataframe\">\n",
       "  <thead>\n",
       "    <tr style=\"text-align: right;\">\n",
       "      <th></th>\n",
       "      <th>customer_id</th>\n",
       "      <th>score</th>\n",
       "      <th>score_date</th>\n",
       "    </tr>\n",
       "  </thead>\n",
       "  <tbody>\n",
       "    <tr>\n",
       "      <th>0</th>\n",
       "      <td>333</td>\n",
       "      <td>511.0</td>\n",
       "      <td>2023-08-26</td>\n",
       "    </tr>\n",
       "    <tr>\n",
       "      <th>1</th>\n",
       "      <td>497</td>\n",
       "      <td>823.0</td>\n",
       "      <td>2023-12-17</td>\n",
       "    </tr>\n",
       "    <tr>\n",
       "      <th>2</th>\n",
       "      <td>597</td>\n",
       "      <td>480.0</td>\n",
       "      <td>2023-11-19</td>\n",
       "    </tr>\n",
       "    <tr>\n",
       "      <th>3</th>\n",
       "      <td>647</td>\n",
       "      <td>550.0</td>\n",
       "      <td>2024-11-12</td>\n",
       "    </tr>\n",
       "    <tr>\n",
       "      <th>4</th>\n",
       "      <td>687</td>\n",
       "      <td>527.0</td>\n",
       "      <td>2024-10-04</td>\n",
       "    </tr>\n",
       "  </tbody>\n",
       "</table>\n",
       "</div>"
      ],
      "text/plain": [
       "   customer_id  score  score_date\n",
       "0          333  511.0  2023-08-26\n",
       "1          497  823.0  2023-12-17\n",
       "2          597  480.0  2023-11-19\n",
       "3          647  550.0  2024-11-12\n",
       "4          687  527.0  2024-10-04"
      ]
     },
     "execution_count": 28,
     "metadata": {},
     "output_type": "execute_result"
    }
   ],
   "source": [
    "# Replace all NaN (empty) values with the string 'NULL'\n",
    "df.fillna(\"NULL\", inplace=True)\n",
    "\n",
    "print(\" Replaced all missing values with 'NULL'\")\n",
    "df.head()\n"
   ]
  },
  {
   "cell_type": "code",
   "execution_count": 30,
   "id": "2a63dbee-d237-445e-9521-3c7c33265999",
   "metadata": {},
   "outputs": [
    {
     "name": "stdout",
     "output_type": "stream",
     "text": [
      " Saved cleaned file as 'credit_scores_clean.csv'\n"
     ]
    }
   ],
   "source": [
    "# Save cleaned version\n",
    "df.to_csv(\"finance_data/credit_scores_clean.csv\", index=False)\n",
    "print(\" Saved cleaned file as 'credit_scores_clean.csv'\")\n"
   ]
  },
  {
   "cell_type": "code",
   "execution_count": 32,
   "id": "7d01f02d-e81f-4d1f-8a7c-0d65540ac23b",
   "metadata": {},
   "outputs": [
    {
     "name": "stdout",
     "output_type": "stream",
     "text": [
      " Any remaining blanks: 0\n"
     ]
    }
   ],
   "source": [
    "# Check if any missing values remain\n",
    "print(\" Any remaining blanks:\", df.isnull().sum().sum())  # Should be 0\n"
   ]
  },
  {
   "cell_type": "code",
   "execution_count": null,
   "id": "9f0d2e38-584f-41a5-8e57-c42a8a5381dc",
   "metadata": {},
   "outputs": [],
   "source": []
  }
 ],
 "metadata": {
  "kernelspec": {
   "display_name": "Python [conda env:base] *",
   "language": "python",
   "name": "conda-base-py"
  },
  "language_info": {
   "codemirror_mode": {
    "name": "ipython",
    "version": 3
   },
   "file_extension": ".py",
   "mimetype": "text/x-python",
   "name": "python",
   "nbconvert_exporter": "python",
   "pygments_lexer": "ipython3",
   "version": "3.12.7"
  }
 },
 "nbformat": 4,
 "nbformat_minor": 5
}
