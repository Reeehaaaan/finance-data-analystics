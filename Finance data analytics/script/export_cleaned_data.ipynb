{
 "cells": [
  {
   "cell_type": "code",
   "execution_count": 7,
   "id": "540e8b39-41d5-44ef-b171-34effc83f57c",
   "metadata": {},
   "outputs": [
    {
     "name": "stdout",
     "output_type": "stream",
     "text": [
      "clean_customers exported to C:\\Users\\DELL.WIN-EFQG1MH1O15\\Desktop\\Finance project\\cleaned_data\\clean_customers.csv\n",
      "clean_accounts exported to C:\\Users\\DELL.WIN-EFQG1MH1O15\\Desktop\\Finance project\\cleaned_data\\clean_accounts.csv\n",
      "clean_transactions exported to C:\\Users\\DELL.WIN-EFQG1MH1O15\\Desktop\\Finance project\\cleaned_data\\clean_transactions.csv\n",
      "clean_loan_applications exported to C:\\Users\\DELL.WIN-EFQG1MH1O15\\Desktop\\Finance project\\cleaned_data\\clean_loan_applications.csv\n",
      "clean_credit_score exported to C:\\Users\\DELL.WIN-EFQG1MH1O15\\Desktop\\Finance project\\cleaned_data\\clean_credit_score.csv\n"
     ]
    }
   ],
   "source": [
    "# export_cleaned_data_sqlalchemy.py\n",
    "\n",
    "import os\n",
    "import pandas as pd\n",
    "from sqlalchemy import create_engine\n",
    "\n",
    "# Output directory\n",
    "output_dir = r\"C:\\Users\\DELL.WIN-EFQG1MH1O15\\Desktop\\Finance project\\cleaned_data\"\n",
    "os.makedirs(output_dir, exist_ok=True)\n",
    "\n",
    "# SQLAlchemy connection (replace with your details)\n",
    "username = \"root\" # your_username\n",
    "password = \"root\" # your_password \n",
    "host = \"localhost\"\n",
    "port = \"3306\"\n",
    "database = \"finance_analytics\"\n",
    "\n",
    "# Create engine\n",
    "engine = create_engine(f\"mysql+mysqlconnector://{username}:{password}@{host}:{port}/{database}\")\n",
    "\n",
    "# Function to export table\n",
    "def export_table_to_csv(table_name):\n",
    "    query = f\"SELECT * FROM {table_name};\"\n",
    "    df = pd.read_sql(query, con=engine)\n",
    "    file_path = os.path.join(output_dir, f\"{table_name}.csv\")\n",
    "    df.to_csv(file_path, index=False)\n",
    "    print(f\"{table_name} exported to {file_path}\")\n",
    "\n",
    "# Tables to export\n",
    "clean_tables = [\n",
    "    \"clean_customers\",\n",
    "    \"clean_accounts\",\n",
    "    \"clean_transactions\",\n",
    "    \"clean_loan_applications\",\n",
    "    \"clean_credit_score\"\n",
    "]\n",
    "\n",
    "# Run export\n",
    "for table in clean_tables:\n",
    "    export_table_to_csv(table)\n"
   ]
  },
  {
   "cell_type": "code",
   "execution_count": null,
   "id": "f61f017d-7821-45e4-98ce-e066c82f2114",
   "metadata": {},
   "outputs": [],
   "source": []
  }
 ],
 "metadata": {
  "kernelspec": {
   "display_name": "Python [conda env:base] *",
   "language": "python",
   "name": "conda-base-py"
  },
  "language_info": {
   "codemirror_mode": {
    "name": "ipython",
    "version": 3
   },
   "file_extension": ".py",
   "mimetype": "text/x-python",
   "name": "python",
   "nbconvert_exporter": "python",
   "pygments_lexer": "ipython3",
   "version": "3.12.7"
  }
 },
 "nbformat": 4,
 "nbformat_minor": 5
}
